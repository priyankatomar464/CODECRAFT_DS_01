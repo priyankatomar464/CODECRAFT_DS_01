{
 "cells": [
  {
   "cell_type": "code",
   "execution_count": null,
   "id": "4824b936",
   "metadata": {
    "vscode": {
     "languageId": "plaintext"
    }
   },
   "outputs": [],
   "source": [
    "import pandas as pd\n",
    "import matplotlib.pyplot as plt\n",
    "import seaborn as sns\n",
    "\n",
    "# Load the dataset\n",
    "df = pd.read_csv(\"API_SP.POP.TOTL_DS2_en_csv_v2.csv\", skiprows=4)\n",
    "\n",
    "# Select top 10 most populous countries (2022)\n",
    "top10 = df[['Country Name', '2022']].sort_values(by='2022', ascending=False).head(10)\n",
    "\n",
    "# Plotting\n",
    "plt.figure(figsize=(12, 6))\n",
    "sns.barplot(y='Country Name', x='2022', data=top10, palette='mako')\n",
    "plt.title('Top 10 Most Populous Countries in 2022')\n",
    "plt.xlabel('Population')\n",
    "plt.ylabel('Country')\n",
    "plt.tight_layout()\n",
    "plt.savefig('chart.png')\n",
    "plt.show()\n"
   ]
  }
 ],
 "metadata": {
  "language_info": {
   "name": "python"
  }
 },
 "nbformat": 4,
 "nbformat_minor": 5
}
